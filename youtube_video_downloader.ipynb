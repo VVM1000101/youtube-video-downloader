{
  "nbformat": 4,
  "nbformat_minor": 0,
  "metadata": {
    "colab": {
      "provenance": []
    },
    "kernelspec": {
      "name": "python3",
      "display_name": "Python 3"
    },
    "language_info": {
      "name": "python"
    }
  },
  "cells": [
    {
      "cell_type": "markdown",
      "source": [
        "# Youtube Video Downloader"
      ],
      "metadata": {
        "id": "llnQvF4te4_D"
      }
    },
    {
      "cell_type": "markdown",
      "source": [
        "### Install pytube library"
      ],
      "metadata": {
        "id": "s8BSd-7UfLU4"
      }
    },
    {
      "cell_type": "code",
      "source": [
        "!pip install --upgrade pytube"
      ],
      "metadata": {
        "colab": {
          "base_uri": "https://localhost:8080/"
        },
        "id": "5oqx5sfYfHgD",
        "outputId": "7c870aa4-7899-46f3-e266-b7a6f36f6e60"
      },
      "execution_count": 5,
      "outputs": [
        {
          "output_type": "stream",
          "name": "stdout",
          "text": [
            "Requirement already satisfied: pytube in /usr/local/lib/python3.10/dist-packages (15.0.0)\n"
          ]
        }
      ]
    },
    {
      "cell_type": "markdown",
      "source": [
        "### Run the following to avoid pytube streaming and throttling function errors:"
      ],
      "metadata": {
        "id": "GuD1lJvHmYdu"
      }
    },
    {
      "cell_type": "code",
      "source": [
        "from pytube.innertube import _default_clients\n",
        "from pytube import cipher\n",
        "import re\n",
        "\n",
        "_default_clients[\"ANDROID\"][\"context\"][\"client\"][\"clientVersion\"] = \"19.08.35\"\n",
        "_default_clients[\"IOS\"][\"context\"][\"client\"][\"clientVersion\"] = \"19.08.35\"\n",
        "_default_clients[\"ANDROID_EMBED\"][\"context\"][\"client\"][\"clientVersion\"] = \"19.08.35\"\n",
        "_default_clients[\"IOS_EMBED\"][\"context\"][\"client\"][\"clientVersion\"] = \"19.08.35\"\n",
        "_default_clients[\"IOS_MUSIC\"][\"context\"][\"client\"][\"clientVersion\"] = \"6.41\"\n",
        "_default_clients[\"ANDROID_MUSIC\"] = _default_clients[\"ANDROID_CREATOR\"]\n",
        "\n",
        "\n",
        "\n",
        "def get_throttling_function_name(js: str) -> str:\n",
        "    \"\"\"Extract the name of the function that computes the throttling parameter.\n",
        "\n",
        "    :param str js:\n",
        "        The contents of the base.js asset file.\n",
        "    :rtype: str\n",
        "    :returns:\n",
        "        The name of the function used to compute the throttling parameter.\n",
        "    \"\"\"\n",
        "    function_patterns = [\n",
        "        r'a\\.[a-zA-Z]\\s*&&\\s*\\([a-z]\\s*=\\s*a\\.get\\(\"n\"\\)\\)\\s*&&\\s*'\n",
        "        r'\\([a-z]\\s*=\\s*([a-zA-Z0-9$]+)(\\[\\d+\\])?\\([a-z]\\)',\n",
        "        r'\\([a-z]\\s*=\\s*([a-zA-Z0-9$]+)(\\[\\d+\\])\\([a-z]\\)',\n",
        "    ]\n",
        "    #logger.debug('Finding throttling function name')\n",
        "    for pattern in function_patterns:\n",
        "        regex = re.compile(pattern)\n",
        "        function_match = regex.search(js)\n",
        "        if function_match:\n",
        "            #logger.debug(\"finished regex search, matched: %s\", pattern)\n",
        "            if len(function_match.groups()) == 1:\n",
        "                return function_match.group(1)\n",
        "            idx = function_match.group(2)\n",
        "            if idx:\n",
        "                idx = idx.strip(\"[]\")\n",
        "                array = re.search(\n",
        "                    r'var {nfunc}\\s*=\\s*(\\[.+?\\]);'.format(\n",
        "                        nfunc=re.escape(function_match.group(1))),\n",
        "                    js\n",
        "                )\n",
        "                if array:\n",
        "                    array = array.group(1).strip(\"[]\").split(\",\")\n",
        "                    array = [x.strip() for x in array]\n",
        "                    return array[int(idx)]\n",
        "\n",
        "    raise RegexMatchError(\n",
        "        caller=\"get_throttling_function_name\", pattern=\"multiple\"\n",
        "    )\n",
        "\n",
        "cipher.get_throttling_function_name = get_throttling_function_name"
      ],
      "metadata": {
        "id": "QQ4pJLcMlyPd"
      },
      "execution_count": 19,
      "outputs": []
    },
    {
      "cell_type": "markdown",
      "source": [
        "# Run following to start download:"
      ],
      "metadata": {
        "id": "FSsCSQ1Kmk1P"
      }
    },
    {
      "cell_type": "code",
      "source": [
        "from pytube import YouTube\n",
        "\n",
        "from google.colab import files\n",
        "\n",
        "# Enter Links of the videos to be downloaded, seperate links by ','\n",
        "links = [\"https://www.youtube.com/watch?v=EwSlcff15Oc\"]\n",
        "\n",
        "for link in links:\n",
        "    try:\n",
        "        print(f\"Processing {link}...\")\n",
        "        yt = YouTube(link)\n",
        "        print(\"YouTube object created successfully.\")\n",
        "    except Exception as e:\n",
        "        print(f\"Connection Error for {link}: {e}\")\n",
        "        continue\n",
        "\n",
        "    # Get all streams and filter for mp4 files\n",
        "    try:\n",
        "        mp4_streams = yt.streams.filter(file_extension='mp4').get_highest_resolution()\n",
        "        if mp4_streams is None:\n",
        "            print(f\"No mp4 streams found for {link}\")\n",
        "            continue\n",
        "        print(f\"Stream fetched: {mp4_streams.resolution}\")\n",
        "    except Exception as e:\n",
        "        print(f\"Error fetching streams for {link}: {e}\")\n",
        "        continue\n",
        "\n",
        "    # Get the video with the highest resolution\n",
        "    d_video = mp4_streams\n",
        "\n",
        "    try:\n",
        "        # Download the video\n",
        "        d_video.download('/content', filename='your_video_file.mp4')\n",
        "        files.download('/content/your_video_file.mp4')\n",
        "        print('Video downloaded successfully!')\n",
        "    except:\n",
        "        print(\"Some Error!\")\n",
        "\n",
        "\n"
      ],
      "metadata": {
        "colab": {
          "base_uri": "https://localhost:8080/",
          "height": 86
        },
        "id": "MK5rCTLEe-Rq",
        "outputId": "b93ec60f-9407-48a8-b5c3-609a3d31d96e"
      },
      "execution_count": 20,
      "outputs": [
        {
          "output_type": "stream",
          "name": "stdout",
          "text": [
            "Processing https://www.youtube.com/watch?v=EwSlcff15Oc...\n",
            "YouTube object created successfully.\n",
            "Stream fetched: 360p\n"
          ]
        },
        {
          "output_type": "display_data",
          "data": {
            "text/plain": [
              "<IPython.core.display.Javascript object>"
            ],
            "application/javascript": [
              "\n",
              "    async function download(id, filename, size) {\n",
              "      if (!google.colab.kernel.accessAllowed) {\n",
              "        return;\n",
              "      }\n",
              "      const div = document.createElement('div');\n",
              "      const label = document.createElement('label');\n",
              "      label.textContent = `Downloading \"${filename}\": `;\n",
              "      div.appendChild(label);\n",
              "      const progress = document.createElement('progress');\n",
              "      progress.max = size;\n",
              "      div.appendChild(progress);\n",
              "      document.body.appendChild(div);\n",
              "\n",
              "      const buffers = [];\n",
              "      let downloaded = 0;\n",
              "\n",
              "      const channel = await google.colab.kernel.comms.open(id);\n",
              "      // Send a message to notify the kernel that we're ready.\n",
              "      channel.send({})\n",
              "\n",
              "      for await (const message of channel.messages) {\n",
              "        // Send a message to notify the kernel that we're ready.\n",
              "        channel.send({})\n",
              "        if (message.buffers) {\n",
              "          for (const buffer of message.buffers) {\n",
              "            buffers.push(buffer);\n",
              "            downloaded += buffer.byteLength;\n",
              "            progress.value = downloaded;\n",
              "          }\n",
              "        }\n",
              "      }\n",
              "      const blob = new Blob(buffers, {type: 'application/binary'});\n",
              "      const a = document.createElement('a');\n",
              "      a.href = window.URL.createObjectURL(blob);\n",
              "      a.download = filename;\n",
              "      div.appendChild(a);\n",
              "      a.click();\n",
              "      div.remove();\n",
              "    }\n",
              "  "
            ]
          },
          "metadata": {}
        },
        {
          "output_type": "display_data",
          "data": {
            "text/plain": [
              "<IPython.core.display.Javascript object>"
            ],
            "application/javascript": [
              "download(\"download_1d21be1e-12d6-4739-bb96-4a47b1b090e8\", \"your_video_file.mp4\", 2132879)"
            ]
          },
          "metadata": {}
        },
        {
          "output_type": "stream",
          "name": "stdout",
          "text": [
            "Video downloaded successfully!\n"
          ]
        }
      ]
    }
  ]
}